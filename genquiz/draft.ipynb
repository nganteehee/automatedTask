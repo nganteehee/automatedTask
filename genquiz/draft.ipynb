{
 "cells": [
  {
   "cell_type": "code",
   "execution_count": 2,
   "metadata": {},
   "outputs": [],
   "source": [
    "import os, re\n",
    "import random"
   ]
  },
  {
   "cell_type": "code",
   "execution_count": 3,
   "metadata": {},
   "outputs": [
    {
     "data": {
      "text/plain": [
       "'/Users/leekim/prj/practicepython/genquiz'"
      ]
     },
     "execution_count": 3,
     "metadata": {},
     "output_type": "execute_result"
    }
   ],
   "source": [
    "os.getcwd()"
   ]
  },
  {
   "cell_type": "code",
   "execution_count": 3,
   "metadata": {},
   "outputs": [],
   "source": [
    "path = '/Users/leekim/prj/practicepython/genquiz'"
   ]
  },
  {
   "cell_type": "code",
   "execution_count": 4,
   "metadata": {},
   "outputs": [],
   "source": [
    "capitals = {'Alabama': 'Montgomery', 'Alaska': 'Juneau', 'Arizona': 'Phoenix', \n",
    "'Arkansas': 'Little Rock', 'California': 'Sacramento', 'Colorado': 'Denver', \n",
    "'Connecticut': 'Hartford', 'Delaware': 'Dover', 'Florida': 'Tallahassee', \n",
    "'Georgia': 'Atlanta', 'Hawaii': 'Honolulu', 'Idaho': 'Boise', 'Illinois': \n",
    "'Springfield', 'Indiana': 'Indianapolis', 'Iowa': 'Des Moines', 'Kansas': \n",
    "'Topeka', 'Kentucky': 'Frankfort', 'Louisiana': 'Baton Rouge', 'Maine': \n",
    "'Augusta', 'Maryland': 'Annapolis', 'Massachusetts': 'Boston', 'Michigan': \n",
    "'Lansing', 'Minnesota': 'Saint Paul', 'Mississippi': 'Jackson', 'Missouri': \n",
    "'Jefferson City', 'Montana': 'Helena', 'Nebraska': 'Lincoln', 'Nevada': \n",
    "'Carson City', 'New Hampshire': 'Concord', 'New Jersey': 'Trenton', 'New Mexico': 'Santa Fe', 'New York': 'Albany', 'North Carolina': 'Raleigh', \n",
    "'North Dakota': 'Bismarck', 'Ohio': 'Columbus', 'Oklahoma': 'Oklahoma City', \n",
    "'Oregon': 'Salem', 'Pennsylvania': 'Harrisburg', 'Rhode Island': 'Providence', \n",
    "'South Carolina': 'Columbia', 'South Dakota': 'Pierre', 'Tennessee': \n",
    "'Nashville', 'Texas': 'Austin', 'Utah': 'Salt Lake City', 'Vermont': \n",
    "'Montpelier', 'Virginia': 'Richmond', 'Washington': 'Olympia', 'West Virginia': 'Charleston', 'Wisconsin': 'Madison', 'Wyoming': 'Cheyenne'}"
   ]
  },
  {
   "cell_type": "code",
   "execution_count": null,
   "metadata": {},
   "outputs": [],
   "source": [
    "for quiztest in range(4):\n",
    "    with open(f'capitalsquiz%s.txt' %(quiztest + 1), 'w') as quizFile:\n",
    "        quizFile.write('Name: \\n\\n Date: \\n\\n Period \\n\\n')\n",
    "        quizFile.write((' '*20)+'State capital squiz (Form %s)' % (quiztest + 1))\n",
    "        quizFile.write('\\n\\n')\n",
    "    "
   ]
  },
  {
   "cell_type": "code",
   "execution_count": 5,
   "metadata": {},
   "outputs": [],
   "source": [
    "states = list(capitals.keys())\n",
    "random.shuffle(states)"
   ]
  },
  {
   "cell_type": "code",
   "execution_count": 13,
   "metadata": {},
   "outputs": [],
   "source": [
    "for quiztest in range(4):\n",
    "    with open(f'capitalsquiz%s.txt' %(quiztest + 1), 'w') as quizFile:\n",
    "        states = list(capitals.keys())\n",
    "        random.shuffle(states)\n",
    "        quizFile.write('Name: \\n\\n Date: \\n\\n Period \\n\\n')\n",
    "        quizFile.write((' '*20)+'State capital squiz (Form %s)' % (quiztest + 1))\n",
    "        quizFile.write('\\n\\n')\n",
    "        for quiznum in range(49):\n",
    "            correctAnswer = capitals[states[quiznum]]\n",
    "            wrongAnswer = list(capitals.values())\n",
    "            del wrongAnswer[wrongAnswer.index(correctAnswer)]\n",
    "            wrongAnswer = random.sample(wrongAnswer, 3)\n",
    "            answerOption = [correctAnswer]+wrongAnswer\n",
    "            random.shuffle(answerOption)\n",
    "            quizFile.write('%s. What is the capital of the State %s \\n' % (quiznum+1, states[quiznum+1]))\n",
    "            \n",
    "            for i in range(4):\n",
    "                quizFile.write('ABCD'[i] + ' ' + answerOption[i] + '\\n')\n",
    "    with open(f'answer ky %s.txt' % (quiztest+1), 'w') as answerFile:\n",
    "        for quiznum in range(49):\n",
    "            answerFile.write('%s ' % (quiznum + 1) + capitals[states[quiznum]] + '\\n')\n"
   ]
  },
  {
   "cell_type": "code",
   "execution_count": 35,
   "metadata": {},
   "outputs": [
    {
     "data": {
      "text/plain": [
       "'B'"
      ]
     },
     "execution_count": 35,
     "metadata": {},
     "output_type": "execute_result"
    }
   ],
   "source": [
    "'ABCD'[1]"
   ]
  },
  {
   "cell_type": "code",
   "execution_count": 36,
   "metadata": {},
   "outputs": [
    {
     "data": {
      "text/plain": [
       "[4, 3]"
      ]
     },
     "execution_count": 36,
     "metadata": {},
     "output_type": "execute_result"
    }
   ],
   "source": [
    "random.sample([1, 2, 3, 4], 2)"
   ]
  },
  {
   "cell_type": "code",
   "execution_count": 1,
   "metadata": {},
   "outputs": [],
   "source": [
    "text = 'The ADJECTIVE panda walked to the NOUN and then VERB. A nearby NOUN was unaffected by these events.'"
   ]
  },
  {
   "cell_type": "code",
   "execution_count": 2,
   "metadata": {},
   "outputs": [],
   "source": [
    "words = text.split(' ')"
   ]
  },
  {
   "cell_type": "code",
   "execution_count": 5,
   "metadata": {},
   "outputs": [
    {
     "data": {
      "text/plain": [
       "['The',\n",
       " 'ADJECTIVE',\n",
       " 'panda',\n",
       " 'walked',\n",
       " 'to',\n",
       " 'the',\n",
       " 'NOUN',\n",
       " 'and',\n",
       " 'then',\n",
       " 'VERB.',\n",
       " 'A',\n",
       " 'nearby',\n",
       " 'NOUN',\n",
       " 'was',\n",
       " 'unaffected',\n",
       " 'by',\n",
       " 'these',\n",
       " 'events.']"
      ]
     },
     "execution_count": 5,
     "metadata": {},
     "output_type": "execute_result"
    }
   ],
   "source": [
    "words"
   ]
  },
  {
   "cell_type": "code",
   "execution_count": 10,
   "metadata": {},
   "outputs": [],
   "source": [
    "if words.index('ADJECTIVE'):\n",
    "    words.index('ADJECTIVE') == input()"
   ]
  },
  {
   "cell_type": "code",
   "execution_count": null,
   "metadata": {},
   "outputs": [],
   "source": [
    "im"
   ]
  }
 ],
 "metadata": {
  "kernelspec": {
   "display_name": "test_env",
   "language": "python",
   "name": "python3"
  },
  "language_info": {
   "codemirror_mode": {
    "name": "ipython",
    "version": 3
   },
   "file_extension": ".py",
   "mimetype": "text/x-python",
   "name": "python",
   "nbconvert_exporter": "python",
   "pygments_lexer": "ipython3",
   "version": "3.12.7"
  }
 },
 "nbformat": 4,
 "nbformat_minor": 2
}
